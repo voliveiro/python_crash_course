{
  "nbformat": 4,
  "nbformat_minor": 0,
  "metadata": {
    "colab": {
      "provenance": [],
      "include_colab_link": true
    },
    "kernelspec": {
      "name": "python3",
      "display_name": "Python 3"
    },
    "language_info": {
      "name": "python"
    }
  },
  "cells": [
    {
      "cell_type": "markdown",
      "metadata": {
        "id": "view-in-github",
        "colab_type": "text"
      },
      "source": [
        "<a href=\"https://colab.research.google.com/github/voliveiro/python_crash_course/blob/main/Lesson_4.ipynb\" target=\"_parent\"><img src=\"https://colab.research.google.com/assets/colab-badge.svg\" alt=\"Open In Colab\"/></a>"
      ]
    },
    {
      "cell_type": "markdown",
      "source": [
        "# INSTRUCTIONS\n",
        "\n",
        "Please click \"File\" and \"Save a copy in drive\".\n",
        "\n",
        "DO NOT type in or edit this master copy of the work sheet - you will be changing the worksheet for everyone.\n"
      ],
      "metadata": {
        "id": "4PekbK425UTW"
      }
    },
    {
      "cell_type": "markdown",
      "source": [
        "# Dictionaries"
      ],
      "metadata": {
        "id": "uk2lIC_YqJZg"
      }
    },
    {
      "cell_type": "code",
      "source": [
        "#\"keys\" on the left hand, \"values\" on the right.\n",
        "person = {\n",
        "    'name': 'Bob',\n",
        "    'age': 35,\n",
        "    'is_citizen': True,\n",
        "    'address': {\n",
        "        'street': 'Blk 123 Ang Mo Kio St 1',\n",
        "        'unit': '#05-678',\n",
        "        'city': 'Singapore',\n",
        "        'postcode' : '123456'\n",
        "    }\n",
        "}\n"
      ],
      "metadata": {
        "id": "-GbFwPXuqKCH"
      },
      "execution_count": null,
      "outputs": []
    },
    {
      "cell_type": "code",
      "source": [
        "#to print a particular value - dictionary[\"key\"]\n",
        "\n",
        "#let's access person's name\n",
        "\n",
        ""
      ],
      "metadata": {
        "id": "c703IHeQqfoW"
      },
      "execution_count": null,
      "outputs": []
    },
    {
      "cell_type": "code",
      "source": [
        "# How would you access the address?\n",
        "\n",
        "\n",
        "\n",
        "# What about just the city?\n",
        "\n",
        "\n"
      ],
      "metadata": {
        "id": "lHFDEtFWqhJQ"
      },
      "execution_count": null,
      "outputs": []
    },
    {
      "cell_type": "code",
      "source": [
        "#access street\n",
        ""
      ],
      "metadata": {
        "id": "2-QrLYNHS33a"
      },
      "execution_count": null,
      "outputs": []
    },
    {
      "cell_type": "code",
      "source": [
        "#Loop through a dictionary\n",
        "#use for key in dict\n",
        "#  print(key)\n",
        "#Loop through the keys of the dict {person}\n",
        "\n",
        "for key in person:\n",
        "  print(key)"
      ],
      "metadata": {
        "id": "FXUxbHMVqn4w"
      },
      "execution_count": null,
      "outputs": []
    },
    {
      "cell_type": "code",
      "source": [
        "#Loop through the values of the dict\n",
        "#use for key in dict\n",
        "#   print(dict[key])\n",
        "\n",
        "for key in person:\n",
        "  print(person[key])"
      ],
      "metadata": {
        "id": "nqQu1R3irOXg"
      },
      "execution_count": null,
      "outputs": []
    },
    {
      "cell_type": "code",
      "source": [
        "#you can also do for k, v in person.items()\n",
        "\n",
        "for key, value in person.items():\n",
        "  print(key, value)\n"
      ],
      "metadata": {
        "id": "cqn1Uii1rWyV"
      },
      "execution_count": null,
      "outputs": []
    },
    {
      "cell_type": "markdown",
      "source": [
        "You do: how would you loop through and print the keys and values of the nested dictionary, \"address\"?"
      ],
      "metadata": {
        "id": "RXv5qfITrkS0"
      }
    },
    {
      "cell_type": "code",
      "source": [
        "person = {\n",
        "    'name': 'Bob',\n",
        "    'age': 35,\n",
        "    'is_citizen': True,\n",
        "    'address': {\n",
        "        'street': 'Blk 123 Ang Mo Kio St 1',\n",
        "        'unit': '#05-678',\n",
        "        'city': 'Singapore',\n",
        "        'postcode' : '123456'\n",
        "    }\n",
        "}\n",
        "\n"
      ],
      "metadata": {
        "id": "bqDst2JYrait"
      },
      "execution_count": null,
      "outputs": []
    },
    {
      "cell_type": "code",
      "source": [
        "#how would you add the key \"is_married\" and the value \"True\" to the dictionary?\n",
        "\n",
        ""
      ],
      "metadata": {
        "id": "KXp74kDPV1ss"
      },
      "execution_count": 2,
      "outputs": []
    },
    {
      "cell_type": "code",
      "source": [
        "#use the pop() method to remove from a dictionary\n",
        "#note that dictionaries have no \"remove\" method.\n",
        "#how would you remove \"age\" from the dictionary?\n",
        "\n",
        "\n"
      ],
      "metadata": {
        "id": "icT3ncFusKay"
      },
      "execution_count": 3,
      "outputs": []
    },
    {
      "cell_type": "code",
      "source": [
        "#override value by simply reassigning it.\n",
        "\n",
        "#how would you rename Bob?\n",
        "\n",
        ""
      ],
      "metadata": {
        "id": "vDk-4ZQRsOuK"
      },
      "execution_count": 4,
      "outputs": []
    },
    {
      "cell_type": "markdown",
      "source": [
        "Exercise\n",
        "\n",
        "From the data provided below, write code that will help you answer the following questions:\n",
        "\n",
        "How many movies are there in the list?\n",
        "What is the average IMDB rating of the movies?\n",
        "What is the most popular movie category? What is the least?\n"
      ],
      "metadata": {
        "id": "s0bPqu8Bsc9b"
      }
    },
    {
      "cell_type": "code",
      "source": [
        "movies = [\n",
        "{\n",
        "\"name\": \"Joker\",\n",
        "\"imdb\": 8.6,\n",
        "\"category\": \"Drama\"\n",
        "},\n",
        "{\n",
        "\"name\": \"Us\",\n",
        "\"imdb\": 6.9,\n",
        "\"category\": \"Thriller\"\n",
        "},\n",
        "{\n",
        "\"name\": \"Avengers Endgame\",\n",
        "\"imdb\": 8.5,\n",
        "\"category\": \"Fantasy\"\n",
        "},\n",
        "{\n",
        "\"name\": \"Little Women\",\n",
        "\"imdb\": 8.1,\n",
        "\"category\": \"Drama\"\n",
        "},\n",
        "{\n",
        "\"name\": \"Gigli\",\n",
        "\"imdb\": 2.5,\n",
        "\"category\": \"Romance\"\n",
        "},\n",
        "{\n",
        "\"name\": \"The Boxer\",\n",
        "\"imdb\": 7.1,\n",
        "\"category\": \"Drama\"\n",
        "},\n",
        "{\n",
        "\"name\": \"Toy Story 4\",\n",
        "\"imdb\": 7.9,\n",
        "\"category\": \"Fantasy\"\n",
        "},\n",
        "{\n",
        "\"name\": \"Honey I Shrunk the Kids\",\n",
        "\"imdb\": 6.3,\n",
        "\"category\": \"Comedy\"\n",
        "},\n",
        "{\n",
        "\"name\": \"Terminator: Dark Fate\",\n",
        "\"imdb\": 6.3,\n",
        "\"category\": \"Sci-Fi\"\n",
        "},\n",
        "{\n",
        "\"name\": \"Star Wars: The Last Jedi\",\n",
        "\"imdb\": 7.0,\n",
        "\"category\": \"Sci-Fi\"\n",
        "},\n",
        "{\n",
        "\"name\": \"Inside Out\",\n",
        "\"imdb\": 8.2,\n",
        "\"category\": \"Fantasy\"\n",
        "},\n",
        "{\n",
        "\"name\": \"Driving Miss Daisy\",\n",
        "\"imdb\": 7.4,\n",
        "\"category\": \"Drama\"\n",
        "},\n",
        "{\n",
        "\"name\": \"It\",\n",
        "\"imdb\": 7.3,\n",
        "\"category\": \"Thriller\"\n",
        "},\n",
        "{\n",
        "\"name\": \"The Irishman\",\n",
        "\"imdb\": 7.4,\n",
        "\"category\": \"Drama\"\n",
        "},\n",
        "{\n",
        "\"name\": \"Star Trek: Into Darkness\",\n",
        "\"imdb\": 7.7,\n",
        "\"category\": \"Sci-Fi\"\n",
        "}\n",
        "]"
      ],
      "metadata": {
        "id": "-qmV6WbjsgyR"
      },
      "execution_count": null,
      "outputs": []
    },
    {
      "cell_type": "code",
      "source": [],
      "metadata": {
        "id": "9tm1Qch5hL3i"
      },
      "execution_count": null,
      "outputs": []
    }
  ]
}