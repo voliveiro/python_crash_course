{
  "nbformat": 4,
  "nbformat_minor": 0,
  "metadata": {
    "colab": {
      "provenance": [],
      "include_colab_link": true
    },
    "kernelspec": {
      "name": "python3",
      "display_name": "Python 3"
    }
  },
  "cells": [
    {
      "cell_type": "markdown",
      "metadata": {
        "id": "view-in-github",
        "colab_type": "text"
      },
      "source": [
        "<a href=\"https://colab.research.google.com/github/voliveiro/python_crash_course/blob/main/Lesson_3.ipynb\" target=\"_parent\"><img src=\"https://colab.research.google.com/assets/colab-badge.svg\" alt=\"Open In Colab\"/></a>"
      ]
    },
    {
      "cell_type": "markdown",
      "source": [
        "# INSTRUCTIONS\n",
        "\n",
        "Please click \"File\" and \"Save a copy in drive\".\n",
        "\n",
        "DO NOT type in or edit this master copy of the work sheet - you will be changing the worksheet for everyone.\n"
      ],
      "metadata": {
        "id": "odVhGuR_4cop"
      }
    },
    {
      "cell_type": "markdown",
      "metadata": {
        "id": "S5mJxkJFIDkA"
      },
      "source": [
        "# Lesson 3: Data Structures (Lists) and Loops!\n",
        "\n",
        "## Lesson 3a: Lists\n",
        "\n",
        "Lists can contain all sorts of data types!\n",
        "Each item or element in a list is separated by a comma"
      ]
    },
    {
      "cell_type": "code",
      "metadata": {
        "id": "gQE6BzPbH-tm"
      },
      "source": [
        "#list of integers\n",
        "\n",
        "mylist = [1,2,3,4,5]\n",
        "\n"
      ],
      "execution_count": 1,
      "outputs": []
    },
    {
      "cell_type": "code",
      "source": [
        "#list of strings\n",
        "\n",
        "mylist2 = [\"Alice\", \"Bob\", \"Charlie\"]\n",
        "\n"
      ],
      "metadata": {
        "id": "hsVrFvRYL_1Q"
      },
      "execution_count": 2,
      "outputs": []
    },
    {
      "cell_type": "code",
      "source": [
        "#list of floats\n",
        "\n",
        "mylist3 = [3.14, 4.5]\n",
        "\n",
        ""
      ],
      "metadata": {
        "id": "TdPomy5-SM3x"
      },
      "execution_count": 3,
      "outputs": []
    },
    {
      "cell_type": "code",
      "source": [
        "#list of different data types\n",
        "\n",
        "mylist4 = [\"xiaoming\", 3, 3.14, True]\n",
        "\n",
        ""
      ],
      "metadata": {
        "id": "xvSy7agcMFCw"
      },
      "execution_count": 4,
      "outputs": []
    },
    {
      "cell_type": "code",
      "source": [
        "#a list can be empty!\n",
        "mylist5 = []\n",
        "\n",
        ""
      ],
      "metadata": {
        "id": "KmGw4DoyMN0I"
      },
      "execution_count": 5,
      "outputs": []
    },
    {
      "cell_type": "code",
      "source": [
        "#you can have a list of lists!\n",
        "\n",
        "x = [[1,2,3], ['a', 'b', 'c']]\n",
        "\n",
        "\n"
      ],
      "metadata": {
        "id": "nEPtSWCfMR84"
      },
      "execution_count": 6,
      "outputs": []
    },
    {
      "cell_type": "markdown",
      "source": [
        "Some quick practice - consider the list, mylist2, below. Write code so that names with an 'e' in them are added to the list, my_empty_list."
      ],
      "metadata": {
        "id": "WK0GGBwm3Bch"
      }
    },
    {
      "cell_type": "code",
      "source": [
        "mylist2 = [\"Alice\", \"Bob\", \"Charlie\"]\n",
        "my_empty_list = []\n",
        "\n",
        "\n"
      ],
      "metadata": {
        "id": "6ygB3y-h2_t7"
      },
      "execution_count": 8,
      "outputs": []
    },
    {
      "cell_type": "markdown",
      "metadata": {
        "id": "gnBy2-QxoQHW"
      },
      "source": [
        "Lists are zero-indexed! This means that the index number of the first item on the list is 0.\n",
        "\n",
        "To access an item on a list, you write the list and then the index number of the item in square brackets. Like so:\n",
        "> list[i] <br>\n",
        "\n",
        "*where i is the index number*"
      ]
    },
    {
      "cell_type": "code",
      "metadata": {
        "id": "XN-rAepnIvT3"
      },
      "source": [
        "names = [\"Alice\", \"Bob\", \"Charles\", \"Dina\"]\n",
        "\n",
        "#Let's access \"Alice\"\n",
        "\n",
        ""
      ],
      "execution_count": 9,
      "outputs": []
    },
    {
      "cell_type": "code",
      "source": [
        "manylists = [[1,2,3], [3.14, 2.6], [\"Alice\", \"Bob\"]]\n",
        "\n",
        "#How would you access \"Alice\" now?"
      ],
      "metadata": {
        "id": "OQkQ5GKiTQTH"
      },
      "execution_count": 10,
      "outputs": []
    },
    {
      "cell_type": "code",
      "source": [
        "#How would you programmatically access the last name on the list?\n",
        "names = [\"Alice\", \"Bob\", \"Charles\", \"Dina\", \"Edward\", \"Fiona\", \"George\"]\n",
        ""
      ],
      "metadata": {
        "id": "Gt1QNkSmUCaG"
      },
      "execution_count": 11,
      "outputs": []
    },
    {
      "cell_type": "code",
      "source": [
        "#to find the index number of an item, use listname.index(item name)\n",
        "\n",
        "#find the index number for \"Bob\" in the list called names\n",
        "\n"
      ],
      "metadata": {
        "id": "2r3R4DvBNLMk"
      },
      "execution_count": 12,
      "outputs": []
    },
    {
      "cell_type": "code",
      "source": [
        "#Assume you don't know Bob's's index number.\n",
        "#How would you access \"Bob\"?\n",
        "\n",
        "names = [\"Alice\", \"Charles\", \"Dina\", \"Edward\", \"Fiona\", \"George\", \"Bob\", 1,3,4,5,6,7,9, 10]\n",
        "\n"
      ],
      "metadata": {
        "id": "KnOvuxcrMcsB"
      },
      "execution_count": 13,
      "outputs": []
    },
    {
      "cell_type": "markdown",
      "metadata": {
        "id": "7e9iT_36tLQD"
      },
      "source": [
        "How to do things to lists ..."
      ]
    },
    {
      "cell_type": "code",
      "metadata": {
        "id": "XaU_1bWkJR6W"
      },
      "source": [
        "#add to a list - listname.append()\n",
        "\n",
        "#let's add the name \"Earl\" to the list names\n",
        "\n"
      ],
      "execution_count": null,
      "outputs": []
    },
    {
      "cell_type": "code",
      "source": [
        "#now let's add the name Fiona, but between Dina and Earl\n",
        "#use listname.insert(position, item name)\n",
        "\n"
      ],
      "metadata": {
        "id": "bPNfjcFzMuQy"
      },
      "execution_count": null,
      "outputs": []
    },
    {
      "cell_type": "code",
      "metadata": {
        "id": "3nESheiyJhVl"
      },
      "source": [
        "#How would you remove the last item on the list?\n",
        "\n",
        "names = [\"Alice\", \"Charles\", \"Dina\", \"Edward\", \"Fiona\", \"George\", \"Bob\"]\n",
        "\n",
        "\n",
        "\n",
        "\n"
      ],
      "execution_count": 14,
      "outputs": []
    },
    {
      "cell_type": "code",
      "metadata": {
        "id": "9PMPLp6HJubW"
      },
      "source": [
        "#remove a specific item in a list - listname.remove(item name)\n",
        "#let's remove Alice\n",
        ""
      ],
      "execution_count": 15,
      "outputs": []
    },
    {
      "cell_type": "markdown",
      "metadata": {
        "id": "3d_b_OErRmFG"
      },
      "source": [
        "### Exercise 1\n",
        "\n",
        "Practice with lists\n",
        "\n",
        "Define a list with the following items = \"Apple\", \"Banana\", \"Cherry\", \"Durian\"\n",
        "\n",
        "Do the following:\n",
        "\n",
        "1. Print out \"Cherry\" by using the list and the \"Cherry\"'s index number in the list\n",
        "2. Remove \"Durian\" using the pop method\n",
        "3. Append \"Orange\" to the end of the list.\n",
        "4. Add \"Grape\" as the 3rd item on the list\n",
        "5. Remove \"Banana\" from the list using the remove method\n",
        "\n"
      ]
    },
    {
      "cell_type": "code",
      "source": [],
      "metadata": {
        "id": "LBj8H36M3jlA"
      },
      "execution_count": null,
      "outputs": []
    },
    {
      "cell_type": "markdown",
      "metadata": {
        "id": "I5zkiIyJuIFe"
      },
      "source": [
        "### In-built functions\n",
        "\n",
        "Python has in-built functions for lists -e.g. for the biggest, smallest items of the list, a sum of values, and the length of the list."
      ]
    },
    {
      "cell_type": "code",
      "metadata": {
        "id": "MR9oHZnNP2Ds"
      },
      "source": [
        "numbers = [5,4,1,2,3,6]\n",
        "\n",
        "#how would you\n",
        "#- add (sum) all the items in the list\n",
        "# find the largest number in the list\n",
        "# find the smallest number in the list\n"
      ],
      "execution_count": 17,
      "outputs": []
    },
    {
      "cell_type": "code",
      "source": [
        "#Numpy is a very useful library.\n",
        "#Figure out how to find the standard deviation and mean of the list\n",
        "\n",
        "import numpy as np\n",
        "\n",
        ""
      ],
      "metadata": {
        "id": "7sVIFb5HxGuU"
      },
      "execution_count": 18,
      "outputs": []
    },
    {
      "cell_type": "markdown",
      "metadata": {
        "id": "OGz5V0_gUDfA"
      },
      "source": [
        "### Exercise 2: Sorting lists\n",
        "\n",
        "Create the following list: \"Mercury\", \"Venus\", \"Earth\", \"Mars\", \"Jupiter\", \"Saturn\", \"Uranus\", \"Neptune\".\n",
        "\n",
        "Find out how to:\n",
        "1. Sort the list in alphabetical order\n",
        "2. Sort the list in reverse alphabetical order\n",
        "\n"
      ]
    },
    {
      "cell_type": "code",
      "metadata": {
        "id": "C0SchKDBWgcw"
      },
      "source": [
        "planets = [\"Mercury\", \"Venus\", \"Earth\", \"Mars\", \"Jupiter\", \"Saturn\", \"Uranus\", \"Neptune\"]\n"
      ],
      "execution_count": null,
      "outputs": []
    },
    {
      "cell_type": "markdown",
      "metadata": {
        "id": "sQMsHDBquevn"
      },
      "source": [
        "The _Very_ _Useful_ Range Function\n",
        "\n",
        "You'll learn more about functions later. In the meantime, this is useful to know.\n",
        "\n"
      ]
    },
    {
      "cell_type": "code",
      "metadata": {
        "id": "ehabwRYiuvX_"
      },
      "source": [
        "#The range function returns a sequence of numbers\n",
        "#You can tell the range function when to start, when to stop, and how many steps to take\n",
        "\n",
        "myrange = range(1,25,4)\n",
        "\n",
        "#print(myrange) #print the object\n",
        "#print(list(myrange)) #print the values\n",
        "\n",
        "myrange = range(10)\n",
        "\n",
        ""
      ],
      "execution_count": 19,
      "outputs": []
    },
    {
      "cell_type": "markdown",
      "source": [
        "## Lesson 3b: Tuples and Sets"
      ],
      "metadata": {
        "id": "skM84j2sQfKJ"
      }
    },
    {
      "cell_type": "code",
      "metadata": {
        "id": "oo5Zl7Os1xrQ"
      },
      "source": [
        "#a list can be changed.\n",
        "mynumbers=[1,2,3,4,5,1,2,3,4,5]\n",
        "\n",
        "#a tuple is immutable -- cannot be changed.\n",
        "mytuple=(1,2,3,4,5)\n",
        "\n",
        ""
      ],
      "execution_count": 21,
      "outputs": []
    },
    {
      "cell_type": "code",
      "source": [
        "#you can change a list into a tuple by using tuple()\n",
        "\n",
        "mynewtuple = tuple(mynumbers)\n",
        "\n",
        "mynewtuple"
      ],
      "metadata": {
        "id": "OziBZ3XjQpzW"
      },
      "execution_count": null,
      "outputs": []
    },
    {
      "cell_type": "code",
      "source": [
        "#\n",
        "#change mynumbers into a set using set()\n",
        "mynumbers=[1,2,3,4,5,1,2,3,4,5]\n",
        "\n",
        "myset = set(mynumbers)\n",
        ""
      ],
      "metadata": {
        "id": "3c7bGAAiQ3Q6"
      },
      "execution_count": 22,
      "outputs": []
    },
    {
      "cell_type": "markdown",
      "source": [
        "To learn more abouts sets and tuples:\n",
        "* https://realpython.com/python-sets/#:~:text=Set%20elements%20are%20unique.,be%20of%20an%20immutable%20type.\n",
        "* https://realpython.com/python-lists-tuples/"
      ],
      "metadata": {
        "id": "L07Ora9pRI3h"
      }
    },
    {
      "cell_type": "markdown",
      "metadata": {
        "id": "BRFpog9rWhGu"
      },
      "source": [
        "### Lesson 3c: The 'For' Loop"
      ]
    },
    {
      "cell_type": "code",
      "metadata": {
        "id": "ay2DRdZfWjPe"
      },
      "source": [
        "planets=[\"Mercury\", \"Venus\", \"Earth\", \"Mars\", \"Jupiter\", \"Saturn\", \"Uranus\", \"Neptune\"]\n",
        "\n",
        "\n",
        "#let's loop through the list and print each planet\n",
        "\n"
      ],
      "execution_count": null,
      "outputs": []
    },
    {
      "cell_type": "markdown",
      "source": [
        "\"pass\", \"continue\", and \"break\""
      ],
      "metadata": {
        "id": "HUJNHckJ7pvT"
      }
    },
    {
      "cell_type": "code",
      "source": [
        "#pass tells the code to skip\n",
        "\n",
        "#print each planet in planets, but if there is an 's' in the planet, don't print\n",
        "\n",
        "planets=[\"Mercury\", \"Venus\", \"Earth\", \"Mars\", \"Jupiter\", \"Saturn\", \"Uranus\", \"Neptune\"]\n",
        "\n",
        ""
      ],
      "metadata": {
        "id": "2vCTNAGF7tgM"
      },
      "execution_count": 23,
      "outputs": []
    },
    {
      "cell_type": "code",
      "source": [
        "#to see the difference between pass and continue,\n",
        "#print \"there was a planet here\" after 'pass' and 'continue'"
      ],
      "metadata": {
        "id": "kmp8OsUA8UP_"
      },
      "execution_count": null,
      "outputs": []
    },
    {
      "cell_type": "code",
      "source": [
        "#break tells the code to stop\n",
        "\n",
        "#print each planet, but if there is an 's' in the planet, break\n",
        "\n"
      ],
      "metadata": {
        "id": "iTYWoh8T7-J8"
      },
      "execution_count": 24,
      "outputs": []
    },
    {
      "cell_type": "markdown",
      "source": [
        "### Exercise 3: Print the planets, but this time, before each planet, print an index number. So your output should look something like this:\n",
        "\n",
        "1. Mercury\n",
        "2. Venus\n",
        "3. Earth .."
      ],
      "metadata": {
        "id": "sxYYGIWp1UD6"
      }
    },
    {
      "cell_type": "code",
      "metadata": {
        "id": "6g9nQ1eJXgUv"
      },
      "source": [
        "\n",
        "\n"
      ],
      "execution_count": null,
      "outputs": []
    },
    {
      "cell_type": "markdown",
      "source": [
        "###Exercise 4: Create a new list of planets, but the new list should only have planets that have the letter 'e' in them"
      ],
      "metadata": {
        "id": "WnOmcSqVSetl"
      }
    },
    {
      "cell_type": "code",
      "metadata": {
        "id": "x3CvednF58gj"
      },
      "source": [
        "planets=[\"Mercury\", \"Venus\", \"Earth\", \"Mars\", \"Jupiter\", \"Saturn\", \"Uranus\", \"Neptune\"]\n",
        "\n",
        "newplanets = []\n",
        "\n",
        ""
      ],
      "execution_count": 25,
      "outputs": []
    },
    {
      "cell_type": "markdown",
      "metadata": {
        "id": "-8W-e4Nh5pcG"
      },
      "source": [
        "## Lesson 3d: List comprehensions\n",
        "\n",
        "Used when you want to create new lists. The general way it works is:\n",
        "\n",
        "new_list = [i for i in old_list if (some condition)]"
      ]
    },
    {
      "cell_type": "code",
      "source": [
        "#Create a new list of planets that excludes those with the letter r\n",
        "\n"
      ],
      "metadata": {
        "id": "sto97-U61yZG"
      },
      "execution_count": 26,
      "outputs": []
    },
    {
      "cell_type": "markdown",
      "metadata": {
        "id": "LWSeoNII8r5T"
      },
      "source": [
        "### Exercise 5: Practicing List Comprehensions\n",
        "\n",
        "Define a list of numbers from 1 to 30.\n",
        "Write a list comprehension that assigns, to the new list, numbers that are divisible by 5 but not by 10."
      ]
    },
    {
      "cell_type": "code",
      "metadata": {
        "id": "M7HRn2qA8qsR"
      },
      "source": [
        "\n"
      ],
      "execution_count": 26,
      "outputs": []
    },
    {
      "cell_type": "markdown",
      "metadata": {
        "id": "NX6N1p73zhbe"
      },
      "source": [
        "### Homework: Prime numbers\n",
        "\n",
        "Write a programme that prints out a list of prime numbers between 1 and 30."
      ]
    },
    {
      "cell_type": "code",
      "metadata": {
        "id": "8hjlh-frr5Um"
      },
      "source": [],
      "execution_count": null,
      "outputs": []
    },
    {
      "cell_type": "code",
      "source": [],
      "metadata": {
        "id": "wTOyKBYeSxe5"
      },
      "execution_count": null,
      "outputs": []
    }
  ]
}