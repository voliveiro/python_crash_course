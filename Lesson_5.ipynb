{
  "nbformat": 4,
  "nbformat_minor": 0,
  "metadata": {
    "colab": {
      "provenance": [],
      "authorship_tag": "ABX9TyMmfRAtYKTtw7pknSYdrMRS",
      "include_colab_link": true
    },
    "kernelspec": {
      "name": "python3",
      "display_name": "Python 3"
    },
    "language_info": {
      "name": "python"
    }
  },
  "cells": [
    {
      "cell_type": "markdown",
      "metadata": {
        "id": "view-in-github",
        "colab_type": "text"
      },
      "source": [
        "<a href=\"https://colab.research.google.com/github/voliveiro/python_crash_course/blob/main/Lesson_5.ipynb\" target=\"_parent\"><img src=\"https://colab.research.google.com/assets/colab-badge.svg\" alt=\"Open In Colab\"/></a>"
      ]
    },
    {
      "cell_type": "markdown",
      "source": [
        "# INSTRUCTIONS\n",
        "\n",
        "Please click \"File\" and \"Save a copy in drive\".\n",
        "\n",
        "DO NOT type in or edit this master copy of the work sheet - you will be changing the worksheet for everyone.\n"
      ],
      "metadata": {
        "id": "uqeM4KGb87Ba"
      }
    },
    {
      "cell_type": "markdown",
      "source": [
        "# Lesson 5: Functions\n",
        "\n"
      ],
      "metadata": {
        "id": "WiuF5xzb3bAU"
      }
    },
    {
      "cell_type": "code",
      "source": [
        "#create the function\n",
        "\n",
        "def myfunc():\n",
        "  return \"this is my function\"\n",
        "\n",
        "#call the function\n",
        "\n",
        "myfunc()\n"
      ],
      "metadata": {
        "id": "cgXf-cTE3Y0j"
      },
      "execution_count": null,
      "outputs": []
    },
    {
      "cell_type": "markdown",
      "source": [
        "Create a new function - make it do anything! Then, use a loop to call it 5 times."
      ],
      "metadata": {
        "id": "PBwjS6hD6eJ8"
      }
    },
    {
      "cell_type": "code",
      "source": [],
      "metadata": {
        "id": "hdoHEmFtihHU"
      },
      "execution_count": null,
      "outputs": []
    },
    {
      "cell_type": "code",
      "source": [
        "#function with an argument\n",
        "\n",
        "def greeting(name):\n",
        "  print (f'Hello, {name}')\n",
        "\n",
        "\n",
        "#call the function, use any name as the argument\n",
        "\n",
        "#call the function for each name in the list\n",
        "mylist = [\"Alice\", \"Bob\", \"Charle\"]\n",
        "\n"
      ],
      "metadata": {
        "id": "cUb89cKkXOZZ"
      },
      "execution_count": null,
      "outputs": []
    },
    {
      "cell_type": "code",
      "source": [
        "#a function can have many arguments\n",
        "#write a function that adds 3 numbers\n",
        "\n",
        ""
      ],
      "metadata": {
        "id": "c4ljmWzjXjI8"
      },
      "execution_count": null,
      "outputs": []
    },
    {
      "cell_type": "code",
      "source": [
        "#we can also use *args\n",
        "\n",
        "def manyarguments (*args):\n",
        "  for i in args:\n",
        "    print(i, 'hello!' )\n",
        "\n",
        "manyarguments('Alice', 'Bob', \"Charlie\", \"David\", \"Edward\")"
      ],
      "metadata": {
        "id": "6IMT9rMR35VU"
      },
      "execution_count": null,
      "outputs": []
    },
    {
      "cell_type": "code",
      "source": [
        "#there's also #kwargs\n",
        "\n",
        "def printprices(**kwargs):\n",
        "  total = 0\n",
        "  for key in kwargs:\n",
        "    print(key, kwargs[key])\n",
        "    total += kwargs[key]\n",
        "  print (total)\n",
        "\n",
        "printprices(lemons=1.20, apples=3.40, diapers=50)\n",
        "\n"
      ],
      "metadata": {
        "id": "GUTcrREl4iVY"
      },
      "execution_count": null,
      "outputs": []
    },
    {
      "cell_type": "markdown",
      "source": [
        "### Exercise 1\n",
        "\n",
        "\n",
        "Write a programme that guides you to guessing a number between 1 and 20.\n",
        "\n",
        "If the number is too small, say \"that number is too small, try again\".\n",
        "\n",
        "If the number is too big, say, \"that number is too big, try again.\"\n",
        "\n",
        "If the guess is correct, say, \"Correct!\""
      ],
      "metadata": {
        "id": "vHs6bTgQwAOU"
      }
    },
    {
      "cell_type": "code",
      "source": [
        "#I'll start you off:\n",
        "import random\n",
        "#check out Python's \"Random\" library\n",
        "#https://docs.python.org/3/library/random.html\n",
        "\n"
      ],
      "metadata": {
        "id": "AEDx8vgDv_ma"
      },
      "execution_count": null,
      "outputs": []
    },
    {
      "cell_type": "markdown",
      "source": [
        "### Exercise 2\n",
        "\n",
        "Write a 'rock, paper, scissors' game in Python.\n",
        "Play against the computer."
      ],
      "metadata": {
        "id": "1FjLJnOewZH7"
      }
    },
    {
      "cell_type": "code",
      "source": [
        "#use input() to take in input from a user\n",
        "\n",
        ""
      ],
      "metadata": {
        "id": "fR8iaQsgvuUc"
      },
      "execution_count": null,
      "outputs": []
    }
  ]
}