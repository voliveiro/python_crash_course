{
  "nbformat": 4,
  "nbformat_minor": 0,
  "metadata": {
    "colab": {
      "provenance": [],
      "include_colab_link": true
    },
    "kernelspec": {
      "name": "python3",
      "display_name": "Python 3"
    }
  },
  "cells": [
    {
      "cell_type": "markdown",
      "metadata": {
        "id": "view-in-github",
        "colab_type": "text"
      },
      "source": [
        "<a href=\"https://colab.research.google.com/github/voliveiro/python_crash_course/blob/main/Lesson_6.ipynb\" target=\"_parent\"><img src=\"https://colab.research.google.com/assets/colab-badge.svg\" alt=\"Open In Colab\"/></a>"
      ]
    },
    {
      "cell_type": "markdown",
      "source": [
        "INSTRUCTIONS\n",
        "Please click \"File\" and \"Save a copy in drive\" then \"move\".\n",
        "\n",
        "DO NOT type in or edit this master copy of the work sheet - you will be changing the worksheet for everyone."
      ],
      "metadata": {
        "id": "hubEUlBDjdzL"
      }
    },
    {
      "cell_type": "markdown",
      "metadata": {
        "id": "AaJkC2MbSgQF"
      },
      "source": [
        "# Lesson 6: APIs\n",
        "\n",
        "## Lesson 6a: APIs\n",
        "\n",
        "APIs return json format.  \n",
        "\n",
        "The code to access an API looks like this:\n",
        "\n",
        "> import requests \\\n",
        "> response = requests.get(*insert URL here as a string* *remember to use quotes*)\\\n",
        "> data = *method of reading json/ xml data* \\\n",
        "> print(data)\n",
        "\n",
        "Alternatively:\n",
        "> import requests \\\n",
        "> url = *enter a url* \\\n",
        "> response = requests.get(url)\\\n",
        "> data = *method of reading json/ xml data* \\\n",
        "> print (data)"
      ]
    },
    {
      "cell_type": "markdown",
      "metadata": {
        "id": "-jh3jaNW7mzE"
      },
      "source": [
        "## A simple API : Astronauts on the ISS\n",
        "http://api.open-notify.org/astros.json"
      ]
    },
    {
      "cell_type": "code",
      "metadata": {
        "id": "rK9CPvQp77sL"
      },
      "source": [
        "#let's access the data!\n",
        "\n",
        "import requests\n",
        "url = \"http://api.open-notify.org/astros.json\"\n",
        "response=requests.get(url)\n",
        "data=response.json()\n",
        "print(data)"
      ],
      "execution_count": null,
      "outputs": []
    },
    {
      "cell_type": "markdown",
      "source": [
        "Here's a \"prettier\" way to output the data"
      ],
      "metadata": {
        "id": "kcgPAf2jjvPk"
      }
    },
    {
      "cell_type": "code",
      "source": [
        "import json\n",
        "print(json.dumps(data, indent=1))"
      ],
      "metadata": {
        "id": "CwQwqeWoR8KA"
      },
      "execution_count": null,
      "outputs": []
    },
    {
      "cell_type": "code",
      "metadata": {
        "id": "zGOTCTip8fc5"
      },
      "source": [
        "#How would you print just the names of all the astronauts?\n"
      ],
      "execution_count": null,
      "outputs": []
    },
    {
      "cell_type": "markdown",
      "metadata": {
        "id": "J8q3b8xr-_vI"
      },
      "source": [
        "## Let's play with another API: The Weather in London\n",
        "https://samples.openweathermap.org/data/2.5/weather?q=London,uk&appid=b6907d289e10d714a6e88b30761fae22"
      ]
    },
    {
      "cell_type": "code",
      "source": [],
      "metadata": {
        "id": "kZ8FdoKF7aXK"
      },
      "execution_count": null,
      "outputs": []
    },
    {
      "cell_type": "markdown",
      "metadata": {
        "id": "ZMnz9A43ZeXW"
      },
      "source": [
        "### Let's take this opportunity to learn about timestamps!\n",
        "Visit the datetime library: https://docs.python.org/3/library/datetime.html"
      ]
    },
    {
      "cell_type": "code",
      "metadata": {
        "id": "RRtedYPlYwe8"
      },
      "source": [
        "#print out the timestamps for sunrise and sunset\n",
        "sunrise = data[\"sys\"][\"sunrise\"]\n",
        "sunset = data[\"sys\"][\"sunset\"]\n",
        "\n",
        "print(sunrise)\n",
        "print (sunset)\n"
      ],
      "execution_count": null,
      "outputs": []
    },
    {
      "cell_type": "code",
      "metadata": {
        "id": "a022IN9ZZkAq"
      },
      "source": [
        "#You'll see some numbers. But what do these numbers mean?\n",
        "\n",
        "from datetime import datetime\n",
        "\n",
        "#this is the code to change the timestamp into a datetime object\n",
        "#datetime.fromtimestamp(timestamp)\n",
        "\n",
        "sunrise = datetime.fromtimestamp(sunrise)\n",
        "sunset = datetime.fromtimestamp(sunset)\n",
        "\n",
        "print (sunrise)\n",
        "print(sunset)\n"
      ],
      "execution_count": null,
      "outputs": []
    },
    {
      "cell_type": "markdown",
      "source": [
        "Let's practice together - Singpass API call\n"
      ],
      "metadata": {
        "id": "QxgpHNStkV91"
      }
    },
    {
      "cell_type": "code",
      "source": [
        "IC_numbers = \"S9812381D, S9812382B, S9812385G, S9812387C, S9912363Z, S9912366D, S9912369I, S9912370B, S9912372I, S9912374E, S6005053H, S6005055D, S9812379B, F1612347K, G1612348Q, G1612349N, G1612350T, G1612352N, G1612353L\"\n",
        "\n",
        "IC_numbers"
      ],
      "metadata": {
        "id": "7SPtujJFkYju"
      },
      "execution_count": null,
      "outputs": []
    },
    {
      "cell_type": "code",
      "source": [
        "# prompt: turn the string of IC_numbers into a list, remove the extra space infront of each string\n",
        "\n",
        ""
      ],
      "metadata": {
        "id": "T1GNvW_Flx7e"
      },
      "execution_count": null,
      "outputs": []
    },
    {
      "cell_type": "code",
      "source": [
        "#Let's cal the API and have some fun!"
      ],
      "metadata": {
        "id": "AFDQ6XiOmFoP"
      },
      "execution_count": null,
      "outputs": []
    },
    {
      "cell_type": "markdown",
      "metadata": {
        "id": "6DSvqNwJclWc"
      },
      "source": [
        "## Self Practice:\n",
        "https://swapi.dev/documentation"
      ]
    },
    {
      "cell_type": "code",
      "source": [],
      "metadata": {
        "id": "08py3F9tmETj"
      },
      "execution_count": null,
      "outputs": []
    },
    {
      "cell_type": "code",
      "metadata": {
        "id": "MuYyJgjOdjCT"
      },
      "source": [
        "\n",
        "\n"
      ],
      "execution_count": null,
      "outputs": []
    },
    {
      "cell_type": "code",
      "source": [
        "import json\n",
        "import requests\n",
        "url = \"https://api.data.gov.sg/v1/environment/psi\"\n",
        "response = requests.get(url)\n",
        "data = response.json()\n",
        "data"
      ],
      "metadata": {
        "id": "5NiQbj-FoOt3"
      },
      "execution_count": null,
      "outputs": []
    },
    {
      "cell_type": "markdown",
      "metadata": {
        "id": "yLLMk6nNDSpS"
      },
      "source": [
        "## API Keys\n",
        "\n",
        "Some APIS require you to have an API key. These are usually inserted at the end of the URL.\n",
        "\n",
        "Part of working with APIs is being able to work through the developer guides.\n",
        "\n",
        "Visit: https://developer.nytimes.com/docs/most-popular-product/1/overview\n",
        "\n",
        "Obtain and API key.\n",
        "\n",
        "We're going to work with the NY Times' API for the most shared articles on Facebook"
      ]
    },
    {
      "cell_type": "markdown",
      "metadata": {
        "id": "QaWsWNBvcHS-"
      },
      "source": [
        "Print out the titles of the most shared articles"
      ]
    },
    {
      "cell_type": "code",
      "metadata": {
        "id": "ezRX_fqfG5sS"
      },
      "source": [
        "#access the API for most shared articles on Facebook\n",
        "#print out just the titles of the most shared articles\n",
        "import requests\n",
        "import json\n",
        "\n",
        "url = \"https://api.nytimes.com/svc/mostpopular/v2/shared/1/facebook.json?api-key=INSERT_YOUR_KEY_HERE\"\n",
        "\n",
        "response = requests.get(url)\n",
        "\n",
        "\n",
        "data = response.json()\n",
        "\n",
        "data\n"
      ],
      "execution_count": null,
      "outputs": []
    },
    {
      "cell_type": "markdown",
      "source": [
        "For fun: See if your password has been compromised."
      ],
      "metadata": {
        "id": "pD3f6rDHkrha"
      }
    },
    {
      "cell_type": "code",
      "source": [
        "import requests\n",
        "import json\n",
        "\n",
        "response = requests.get(\"https://api.proxynova.com/comb?query='INSERT YOUR QUERY HERE'\")\n",
        "data = response.json()\n",
        "print(json.dumps(data, indent=1))"
      ],
      "metadata": {
        "id": "aVO1qR56bLTo"
      },
      "execution_count": null,
      "outputs": []
    },
    {
      "cell_type": "markdown",
      "source": [
        "## Lesson 6b: Scraping\n",
        "\n",
        "You might find this useful at some point in the future.\n",
        "Scraping requires you to get comfortable with HTML.\n"
      ],
      "metadata": {
        "id": "RqCyZ0WVUcR2"
      }
    },
    {
      "cell_type": "code",
      "metadata": {
        "id": "drSQe_U-C39u"
      },
      "source": [
        "import requests\n",
        "from bs4 import BeautifulSoup\n",
        "\n",
        "# Make a GET request to the URL\n",
        "url = \"https://www.yelp.com/search?find_desc=Nasi+Lemak&find_loc=Singapore\"\n",
        "response = requests.get(url)\n",
        "\n",
        "# Parse the HTML content using Beautiful Soup\n",
        "soup = BeautifulSoup(response.content, \"html.parser\")\n",
        "\n",
        "# Find elements with class \"css-19v1rkv\"\n",
        "element1 = soup.find_all(class_=\"css-19v1rkv\")\n",
        "\n",
        "# Find elements with class \"css-gutk1c\"\n",
        "element2 = soup.find_all(class_=\"css-gutk1c\")\n",
        "\n",
        "# Extract the desired information from the elements\n",
        "for elem in element1:\n",
        "    # Process and extract data as needed\n",
        "    print(elem.text)\n",
        "\n",
        "for elem in element2:\n",
        "    # Process and extract data as needed\n",
        "    print(elem.text)"
      ],
      "execution_count": null,
      "outputs": []
    },
    {
      "cell_type": "code",
      "source": [
        "#Let's find the comments for one restaurant!\n",
        "url = \"https://www.yelp.com/biz/nasi-lemak-kukus-singapore-2?osq=Nasi+Lemak\"\n",
        "response = requests.get(url)\n",
        "soup = BeautifulSoup(response.content, \"html.parser\")\n",
        "reviews = soup.find_all(class_=\"comment__09f24__D0cxf css-qgunke\")\n",
        "for review in reviews:\n",
        "  print(review.text)"
      ],
      "metadata": {
        "id": "ZyEcAjc0GRbw"
      },
      "execution_count": null,
      "outputs": []
    },
    {
      "cell_type": "code",
      "source": [],
      "metadata": {
        "id": "ZPIst0oNzQvN"
      },
      "execution_count": null,
      "outputs": []
    },
    {
      "cell_type": "markdown",
      "source": [
        "## Lesson 6c: Sentiment Analysis"
      ],
      "metadata": {
        "id": "9vMEpdVylfF-"
      }
    },
    {
      "cell_type": "code",
      "source": [
        "#use TextBlob to do a sentiment analysis of the text in reviews\n",
        "\n",
        "from textblob import TextBlob\n",
        "for review in reviews:\n",
        "  sentiment = TextBlob(review.text).sentiment.polarity\n",
        "  print(review.text)\n",
        "  print(sentiment)\n"
      ],
      "metadata": {
        "id": "Lk-57EcLIR7V"
      },
      "execution_count": null,
      "outputs": []
    },
    {
      "cell_type": "code",
      "source": [
        "#Use TextBlob to do a subjectivity analysis of the text in reviews\n",
        "\n",
        "for review in reviews:\n",
        "  subjectivity = TextBlob(review.text).sentiment.subjectivity\n",
        "  print (review.text)\n",
        "  print(subjectivity)\n"
      ],
      "metadata": {
        "id": "rHU9DeiyJcjW"
      },
      "execution_count": null,
      "outputs": []
    },
    {
      "cell_type": "code",
      "source": [],
      "metadata": {
        "id": "BSxlCPV5wB7J"
      },
      "execution_count": null,
      "outputs": []
    }
  ]
}