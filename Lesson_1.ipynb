{
  "nbformat": 4,
  "nbformat_minor": 0,
  "metadata": {
    "colab": {
      "provenance": [],
      "authorship_tag": "ABX9TyP2aFFFzB/molF9Be+bBIaQ",
      "include_colab_link": true
    },
    "kernelspec": {
      "name": "python3",
      "display_name": "Python 3"
    },
    "language_info": {
      "name": "python"
    }
  },
  "cells": [
    {
      "cell_type": "markdown",
      "metadata": {
        "id": "view-in-github",
        "colab_type": "text"
      },
      "source": [
        "<a href=\"https://colab.research.google.com/github/voliveiro/python_crash_course/blob/main/Lesson_1.ipynb\" target=\"_parent\"><img src=\"https://colab.research.google.com/assets/colab-badge.svg\" alt=\"Open In Colab\"/></a>"
      ]
    },
    {
      "cell_type": "markdown",
      "source": [
        "# INSTRUCTIONS\n",
        "\n",
        "Please click \"File\" and \"Save a copy in drive\" then \"move\".\n",
        "\n",
        "DO NOT type in or edit this master copy of the work sheet - you will be changing the worksheet for everyone.\n"
      ],
      "metadata": {
        "id": "Y2Uku-Qv41Ye"
      }
    },
    {
      "cell_type": "markdown",
      "source": [
        "# Introduction\n",
        "\n",
        "The Peanut Butter and Jelly Sandwich Challenge:https://www.youtube.com/watch?v=cDA3_5982h8\n",
        "\n",
        "How would you describe the instructions that the dad was looking for?"
      ],
      "metadata": {
        "id": "OIfOqenQjJRQ"
      }
    },
    {
      "cell_type": "markdown",
      "source": [
        "# Lesson 1: Data Types\n",
        "\n",
        "## 1a: Strings and Variables\n"
      ],
      "metadata": {
        "id": "iahTmyBliKGT"
      }
    },
    {
      "cell_type": "markdown",
      "source": [
        "Let's print \"Hello World\"!"
      ],
      "metadata": {
        "id": "tzj2fE9xiWDb"
      }
    },
    {
      "cell_type": "code",
      "source": [
        ""
      ],
      "metadata": {
        "id": "YrPHM27ZiUaQ"
      },
      "execution_count": null,
      "outputs": []
    },
    {
      "cell_type": "markdown",
      "source": [
        "Let's assign  \"Hello World\" to a variable called \"message\". Then let's print the message!"
      ],
      "metadata": {
        "id": "WqkfeLyDijJs"
      }
    },
    {
      "cell_type": "code",
      "execution_count": null,
      "metadata": {
        "id": "BXcAVZI6hl10"
      },
      "outputs": [],
      "source": [
        ""
      ]
    },
    {
      "cell_type": "markdown",
      "source": [
        "Now assign another string to the variable message. Print it. What do you notice?"
      ],
      "metadata": {
        "id": "rKbyIBjxk6-C"
      }
    },
    {
      "cell_type": "code",
      "source": [
        ""
      ],
      "metadata": {
        "id": "8pmvjDF3h4kM"
      },
      "execution_count": null,
      "outputs": []
    },
    {
      "cell_type": "markdown",
      "source": [
        "A couple of things to note\n",
        "- Apostrophes and Quote marks\n",
        "- Inserting '\\' after an apostrophe\n",
        "- Inserting '\\n' in a string"
      ],
      "metadata": {
        "id": "_-TFPF-RlItx"
      }
    },
    {
      "cell_type": "code",
      "source": [
        ""
      ],
      "metadata": {
        "id": "BUFRfTYilZb9"
      },
      "execution_count": null,
      "outputs": []
    },
    {
      "cell_type": "markdown",
      "source": [
        "Some pointers on naming variables\n",
        "- You can assign a variable any name, BUT, avoid Python's built-in functions: https://docs.python.org/3/library/functions.html\n",
        "- Every key on the keyboard is a character, including the spacebar\n",
        "- There is a 'Pythonic way to name variables"
      ],
      "metadata": {
        "id": "yQH8EY9MlgLU"
      }
    },
    {
      "cell_type": "code",
      "source": [],
      "metadata": {
        "id": "7wDz-9Y3lbbw"
      },
      "execution_count": null,
      "outputs": []
    },
    {
      "cell_type": "markdown",
      "source": [
        "Concatenating Strings\n",
        "\n",
        "You can use:\n",
        "- commas\n",
        "- plus signs\n",
        "\n",
        "But they are not the same!\n",
        "\n",
        "Print the words \"Hello\" and \"World\". First time, use a comma, second time use a plus sign.\n"
      ],
      "metadata": {
        "id": "049S8IsYl3nW"
      }
    },
    {
      "cell_type": "code",
      "source": [
        ""
      ],
      "metadata": {
        "id": "5LtbXjHzmAHk"
      },
      "execution_count": null,
      "outputs": []
    },
    {
      "cell_type": "markdown",
      "source": [
        "F-Strings"
      ],
      "metadata": {
        "id": "lKZHh7gJtByt"
      }
    },
    {
      "cell_type": "code",
      "source": [
        "#newer method\n",
        ""
      ],
      "metadata": {
        "id": "gvkegy-UtBEP"
      },
      "execution_count": null,
      "outputs": []
    },
    {
      "cell_type": "code",
      "source": [
        "#older method that still works\n",
        "\n"
      ],
      "metadata": {
        "id": "Iofq3btItMrp"
      },
      "execution_count": null,
      "outputs": []
    },
    {
      "cell_type": "markdown",
      "source": [
        "## 1b: Integers and Floats"
      ],
      "metadata": {
        "id": "U9Bxzb7qmZ-N"
      }
    },
    {
      "cell_type": "code",
      "source": [
        "my_num = 1\n",
        "my_float = 1.0\n",
        "\n",
        ""
      ],
      "metadata": {
        "id": "-W70hxfmmCMy"
      },
      "execution_count": null,
      "outputs": []
    },
    {
      "cell_type": "markdown",
      "source": [
        "You can change data types!"
      ],
      "metadata": {
        "id": "TOhsuEOHmmMc"
      }
    },
    {
      "cell_type": "code",
      "source": [
        "my_string = str(my_num)\n",
        "\n",
        "print(my_string)\n",
        "\n"
      ],
      "metadata": {
        "id": "qUqJ5mXsmq98"
      },
      "execution_count": null,
      "outputs": []
    },
    {
      "cell_type": "markdown",
      "source": [
        "Note that integers and strings sort differently."
      ],
      "metadata": {
        "id": "26rMCsm9xiNE"
      }
    },
    {
      "cell_type": "code",
      "source": [
        "2 < 10000"
      ],
      "metadata": {
        "id": "i8aO3PQLdOAE"
      },
      "execution_count": null,
      "outputs": []
    },
    {
      "cell_type": "code",
      "source": [
        "\"101\" < \"11\""
      ],
      "metadata": {
        "id": "6FrRc9LTdAo1"
      },
      "execution_count": null,
      "outputs": []
    },
    {
      "cell_type": "markdown",
      "source": [
        "You Find Out: How would you check the data type of a variable in Python?\n"
      ],
      "metadata": {
        "id": "Rta5S7TJm0k1"
      }
    },
    {
      "cell_type": "code",
      "source": [
        "#check the data type of my_string\n",
        "\n",
        "ourdata = [1, \"1\", \"1.34\", \"dog\", \"cat\", 3.14159 ]\n",
        "\n"
      ],
      "metadata": {
        "id": "gU8injqPmuvh"
      },
      "execution_count": null,
      "outputs": []
    },
    {
      "cell_type": "markdown",
      "source": [
        "You Find Out: In Python, how would you turn a float into an integer, and a string into an integer?"
      ],
      "metadata": {
        "id": "qaOFOgS-nUgh"
      }
    },
    {
      "cell_type": "code",
      "source": [
        ""
      ],
      "metadata": {
        "id": "AH5pvTZEneMm"
      },
      "execution_count": null,
      "outputs": []
    },
    {
      "cell_type": "markdown",
      "source": [
        "**Caution**\n",
        "\n",
        "Data types matter!\n",
        "\n",
        "In code, 1 + 1 isn't always 2"
      ],
      "metadata": {
        "id": "PMnAkq7otuB-"
      }
    },
    {
      "cell_type": "code",
      "source": [
        "print (1+1)\n",
        "print(\"1\"+\"1\")"
      ],
      "metadata": {
        "id": "qmkgPACzt-vF"
      },
      "execution_count": null,
      "outputs": []
    },
    {
      "cell_type": "markdown",
      "source": [
        "Data types affect how data sorts\n",
        "\n",
        "Find out if 10 is less than 2, but change the data types"
      ],
      "metadata": {
        "id": "5gQBiO2Lt_cm"
      }
    },
    {
      "cell_type": "code",
      "source": [],
      "metadata": {
        "id": "rsUPU37NvAp9"
      },
      "execution_count": null,
      "outputs": []
    },
    {
      "cell_type": "markdown",
      "source": [
        "Note that strings sort in dictionary order"
      ],
      "metadata": {
        "id": "mFNJTE_6u7n0"
      }
    },
    {
      "cell_type": "code",
      "source": [
        "# print (\"ant\" < \"bee\")\n",
        "# print (\"bee\" < \"ant\")"
      ],
      "metadata": {
        "id": "XX696Q8zuGr-"
      },
      "execution_count": null,
      "outputs": []
    },
    {
      "cell_type": "markdown",
      "source": [
        "Could be useful - finding the floor and math of a float"
      ],
      "metadata": {
        "id": "P-vLyyoFtkDE"
      }
    },
    {
      "cell_type": "code",
      "source": [],
      "metadata": {
        "id": "ct9lKgRvhAf-"
      },
      "execution_count": null,
      "outputs": []
    }
  ]
}