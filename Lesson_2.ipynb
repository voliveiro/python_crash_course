{
  "nbformat": 4,
  "nbformat_minor": 0,
  "metadata": {
    "colab": {
      "provenance": [],
      "include_colab_link": true
    },
    "kernelspec": {
      "name": "python3",
      "display_name": "Python 3"
    }
  },
  "cells": [
    {
      "cell_type": "markdown",
      "metadata": {
        "id": "view-in-github",
        "colab_type": "text"
      },
      "source": [
        "<a href=\"https://colab.research.google.com/github/voliveiro/python_crash_course/blob/main/Lesson_2.ipynb\" target=\"_parent\"><img src=\"https://colab.research.google.com/assets/colab-badge.svg\" alt=\"Open In Colab\"/></a>"
      ]
    },
    {
      "cell_type": "markdown",
      "source": [
        "# INSTRUCTIONS\n",
        "\n",
        "Please click \"File\" and \"Save a copy in drive\".\n",
        "\n",
        "DO NOT type in or edit this master copy of the work sheet - you will be changing the worksheet for everyone.\n"
      ],
      "metadata": {
        "id": "IKc3tosv4u56"
      }
    },
    {
      "cell_type": "markdown",
      "metadata": {
        "id": "eItUEJheKMqN"
      },
      "source": [
        "# Lesson 2: Arithmetic Operators, Booleans, and Conditionals\n",
        "\n",
        "## Lesson 2a Arithmetic Operators\n",
        "\n",
        "#### https://bit.ly/2tqTL16\n",
        "\n",
        "### What answers do you expect for the following?\n",
        "* 10 + 2\n",
        "* 10 - 2\n",
        "* 10 * 2\n",
        "* 10 / 2\n",
        "* 10 ** 2\n",
        "* 10 // 3\n",
        "* 10 % 3"
      ]
    },
    {
      "cell_type": "code",
      "source": [],
      "metadata": {
        "id": "6FR7Aa9Z00aQ"
      },
      "execution_count": null,
      "outputs": []
    },
    {
      "cell_type": "markdown",
      "metadata": {
        "id": "3iC_hDgkC_y7"
      },
      "source": [
        "## Lesson 2b: Boolean Values\n",
        "#### https://do.co/2RQcFYE###\n",
        "\n",
        "\n",
        "For the following: Do you expect the answer to be True or False?\n",
        "\n",
        "* 25 > 50\n",
        "* 30 < 20\n",
        "* 30 >= 25\n",
        "* 15 <= 20\n",
        "* 100 != 100\n",
        "* 25 == 25\n",
        "* 30 = 30\n",
        "* \"10\" == 10\n"
      ]
    },
    {
      "cell_type": "code",
      "source": [],
      "metadata": {
        "id": "biCIs2NG1ljh"
      },
      "execution_count": null,
      "outputs": []
    },
    {
      "cell_type": "markdown",
      "metadata": {
        "id": "mMm--S_Qkys_"
      },
      "source": [
        "## Lesson 2c: Or / And\n",
        "\n",
        " \"or\" means that _one_ of the conditions must be True \\\n",
        "\"and\" means _all_ of the conditions must be True\n",
        "\n",
        "consider the following variables\n",
        "\n",
        "red = 1\n",
        "blue = 2\n",
        "\n",
        "are the following true or false\n",
        "\n",
        "red == 1 and blue == 2\n",
        "\n",
        "red == 1 and blue == 3\n",
        "\n",
        "red == 1 or blue == 7"
      ]
    },
    {
      "cell_type": "code",
      "source": [],
      "metadata": {
        "id": "NKUXxI6i1wOX"
      },
      "execution_count": null,
      "outputs": []
    },
    {
      "cell_type": "markdown",
      "metadata": {
        "id": "tm2DscgGLWbz"
      },
      "source": [
        "\n",
        "## Lesson 2d: Conditionals"
      ]
    },
    {
      "cell_type": "markdown",
      "metadata": {
        "id": "lFuQ86uTMYZu"
      },
      "source": [
        "## The general format is:\n",
        "\n",
        "if *some condition*: \\\n",
        "> *do something*\n",
        "\n",
        "elif: \\\n",
        "> *do something*\n",
        "\n",
        "else: \\\n",
        "> *do something*"
      ]
    },
    {
      "cell_type": "markdown",
      "source": [
        "Let's try our hand at a loop! For each item in the list below, print \"odd\" if the integer is odd, and \"even\" if the integer is even.\n"
      ],
      "metadata": {
        "id": "EoYUnW2h1Czo"
      }
    },
    {
      "cell_type": "code",
      "source": [
        "listofnums = [3,4,5,6,7,8,9]\n",
        "\n",
        "#starter code\n",
        "\n",
        "for i in listofnums:\n",
        " #write your code here"
      ],
      "metadata": {
        "id": "-6WUwBUeiWBI",
        "collapsed": true
      },
      "execution_count": null,
      "outputs": []
    },
    {
      "cell_type": "markdown",
      "source": [
        "Write code that prints \"Do NS\" if the citizen is male, \"No NS for you\" if citizen is female, and \"talk to Mindef\" otherwise."
      ],
      "metadata": {
        "id": "0HBUKFQE18bY"
      }
    },
    {
      "cell_type": "code",
      "source": [],
      "metadata": {
        "id": "7B4-ydVI2CwZ"
      },
      "execution_count": null,
      "outputs": []
    },
    {
      "cell_type": "markdown",
      "source": [
        "How would you make your code more robust by dealing with cases in which the citizen identifies as neither male nor female?"
      ],
      "metadata": {
        "id": "DCKVbDIu2Frm"
      }
    },
    {
      "cell_type": "code",
      "source": [],
      "metadata": {
        "id": "JR_PqluH2Le7"
      },
      "execution_count": null,
      "outputs": []
    },
    {
      "cell_type": "markdown",
      "metadata": {
        "id": "JYKRX7QRh4Zb"
      },
      "source": [
        "###  Exercise 1\n",
        "\n",
        "Assign a value 20 to a variable called 'temperature'.\n",
        "\n",
        "Then write code that prints \"It is too hot\" if the temperature is above 32, \"It is cold\" if the temperature is less than or equal to 10, and \"It is just right\" otherwise."
      ]
    },
    {
      "cell_type": "code",
      "metadata": {
        "id": "xzpqu83tMJ7-"
      },
      "source": [
        ""
      ],
      "execution_count": null,
      "outputs": []
    },
    {
      "cell_type": "markdown",
      "metadata": {
        "id": "vhIArx2AiTXZ"
      },
      "source": [
        "### Exercise 2\n",
        "\n",
        "Add a condition to the above code. If the temperature is between 15 and 23 print \"It is getting warm\". If it's 5 or less, print \"it's really cold\".\n",
        "\n",
        "Test if your code works if the temperature is 21 and 5"
      ]
    },
    {
      "cell_type": "code",
      "metadata": {
        "id": "LCACl7Ddxxmp"
      },
      "source": [
        "\n"
      ],
      "execution_count": null,
      "outputs": []
    },
    {
      "cell_type": "markdown",
      "metadata": {
        "id": "ynVT-yWgm6Yi"
      },
      "source": [
        "### Exercise 3\n",
        "Write code that allows you to see whether a number is odd or even"
      ]
    },
    {
      "cell_type": "code",
      "metadata": {
        "id": "V4rIjN4Rm36G"
      },
      "source": [],
      "execution_count": null,
      "outputs": []
    },
    {
      "cell_type": "markdown",
      "source": [
        "## Homework - Fizzbuzz Challenge\n",
        "https://www.hackerrank.com/challenges/fizzbuzz/problem"
      ],
      "metadata": {
        "id": "-UMik9rdupi7"
      }
    },
    {
      "cell_type": "code",
      "source": [
        "numbers = list(range(1, 100))\n",
        "\n",
        "numbers"
      ],
      "metadata": {
        "id": "Q79cyeI2us4Z"
      },
      "execution_count": null,
      "outputs": []
    }
  ]
}